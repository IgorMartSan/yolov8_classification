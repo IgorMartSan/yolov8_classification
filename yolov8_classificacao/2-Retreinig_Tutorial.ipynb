{
 "cells": [
  {
   "cell_type": "code",
   "execution_count": null,
   "metadata": {},
   "outputs": [],
   "source": [
    "from ultralytics import YOLO\n",
    "import torch\n",
    "import os\n",
    "import shutil\n",
    "import time"
   ]
  },
  {
   "cell_type": "code",
   "execution_count": null,
   "metadata": {},
   "outputs": [],
   "source": [
    "def separar_dados_train_test_pasta(source_dir, treinamento_dir, teste_dir, validacao_dir, ratio=(0.2, 0.2, 0.6), seed=42):\n",
    "    # Define a semente para garantir reproducibilidade\n",
    "    random.seed(seed)\n",
    "\n",
    "    # Lista todos os arquivos no diretório de origem\n",
    "    image_files = [file for file in os.listdir(source_dir)]\n",
    "\n",
    "    # Embaralha a lista de arquivos\n",
    "    random.shuffle(image_files)\n",
    "\n",
    "    # Calcula o número de imagens para treinamento, validação e teste\n",
    "    num_images = len(image_files)\n",
    "    num_train = int(num_images * ratio[0])\n",
    "    num_val = int(num_images * ratio[1])\n",
    "    num_test = num_images - num_train - num_val\n",
    "\n",
    "    # Divide a lista de imagens em conjuntos de treinamento, validação e teste\n",
    "    train_images = image_files[:num_train]\n",
    "    val_images = image_files[num_train:num_train + num_val]\n",
    "    test_images = image_files[num_train + num_val:]\n",
    "\n",
    "    # Cria os diretórios de treinamento, validação e teste, se não existirem\n",
    "    for directory in [treinamento_dir, validacao_dir, teste_dir]:\n",
    "        if not os.path.exists(directory):\n",
    "            os.makedirs(directory)\n",
    "\n",
    "    # Copia as imagens para os diretórios correspondentes\n",
    "    for image in train_images:\n",
    "        shutil.copy(os.path.join(source_dir, image), os.path.join(treinamento_dir, image))\n",
    "\n",
    "    for image in val_images:\n",
    "        shutil.copy(os.path.join(source_dir, image), os.path.join(validacao_dir, image))\n",
    "\n",
    "    for image in test_images:\n",
    "        shutil.copy(os.path.join(source_dir, image), os.path.join(teste_dir, image))\n",
    "\n"
   ]
  },
  {
   "cell_type": "markdown",
   "metadata": {},
   "source": [
    "\n",
    "### Como continuar o treinamento ?\n",
    "\n",
    " Após o treinamento em um conjunto de dados personalizado, o melhor peso é armazenado automaticamente no runs/detect/train/weightsdiretório como best.pt. Para Treinar novamente o modelo, basta usar os pesos do best.pt em vez de yolov8x.pt para treinar o modelo."
   ]
  },
  {
   "cell_type": "code",
   "execution_count": null,
   "metadata": {},
   "outputs": [],
   "source": [
    "if __name__ == '__main__':\n",
    "\n",
    "    device: str = \"mps\" if torch.backends.mps.is_available() else \"cpu\"\n",
    "    print(f\"A gpu está sendo usada ? {device}\")\n",
    "    #time.sleep(10)\n",
    "\n",
    "    separar_dados_train_test_pasta(\n",
    "        \"C:\\\\Users\\\\igor8\\\\PycharmProjects\\\\yolov8\\\\yolov8_classifier_homer_bart\\\\dados\\\\bart\",\n",
    "        \"C:\\\\Users\\\\igor8\\\\PycharmProjects\\\\yolov8\\yolov8_classifier_homer_bart\\\\dados\\\\test\\\\bart\",\n",
    "        \"C:\\\\Users\\\\igor8\\\\PycharmProjects\\\\yolov8\\\\yolov8_classifier_homer_bart\\\\dados\\\\train\\\\bart\",\n",
    "        0.3)\n",
    "\n",
    "    separar_dados_train_test_pasta(\n",
    "        \"C:\\\\Users\\\\igor8\\\\PycharmProjects\\\\yolov8\\\\yolov8_classifier_homer_bart\\\\dados\\\\homer\",\n",
    "        \"C:\\\\Users\\\\igor8\\\\PycharmProjects\\\\yolov8\\yolov8_classifier_homer_bart\\\\dados\\\\test\\\\homer\",\n",
    "        \"C:\\\\Users\\\\igor8\\\\PycharmProjects\\\\yolov8\\\\yolov8_classifier_homer_bart\\\\dados\\\\train\\\\homer\",\n",
    "        0.3)\n",
    "\n",
    "    # load a pretrained model (recommended for training)\n",
    "    model = YOLO(model='C:\\\\Users\\\\igor8\\\\OneDrive\\Área de Trabalho\\\\classification-yolov8\\\\yolov8\\\\yolov8_classifier_homer_bart\\\\runs\\\\classify\\\\train\\\\weights\\\\last.pt')  \n",
    "\n",
    "    model.train(data=\"C:\\\\Users\\\\igor8\\\\PycharmProjects\\\\yolov8\\\\yolov8_classifier_homer_bart\\\\dados\", epochs=4, imgsz=224, device=0) #Train the model\n",
    "    \n",
    "    model.export()\n",
    "#Configurar modelo"
   ]
  }
 ],
 "metadata": {
  "language_info": {
   "name": "python"
  },
  "orig_nbformat": 4
 },
 "nbformat": 4,
 "nbformat_minor": 2
}
