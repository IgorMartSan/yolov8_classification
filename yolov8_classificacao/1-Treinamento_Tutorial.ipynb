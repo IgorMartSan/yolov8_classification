{
 "cells": [
  {
   "cell_type": "markdown",
   "metadata": {},
   "source": [
    "### Tutorial como realizar o treinamento com esse código\n",
    "\n",
    "Alguns links que foram usados para desenvolver o código:\n",
    "\n",
    "- [Doc](https://docs.ultralytics.com/datasets/classify/)\n",
    "- [Vídeo](https://www.youtube.com/watch?v=ZeLg5rxLGLg&ab_channel=Computervisionengineer)\n",
    "- [Dataset](https://www.kaggle.com/datasets/juniorbueno/neural-networks-homer-and-bart-classification?resource=download)\n",
    "\n"
   ]
  },
  {
   "cell_type": "markdown",
   "metadata": {},
   "source": [
    "### Função para Separar Dados em Conjuntos de Treinamento e Teste\n",
    "\n",
    "A função `separar_dados_train_test_pasta` é uma função Python que foi projetada para ajudar na divisão de um conjunto de dados em subconjuntos de treinamento e teste. É útil em tarefas de aprendizado de máquina, onde você deseja treinar um modelo em parte dos dados e testá-lo em outra parte para avaliar o desempenho.\n",
    "\n",
    "#### Uso\n",
    "\n",
    "A função requer os seguintes argumentos:\n",
    "\n",
    "- `source_dir`: O diretório de origem onde estão localizados os dados que você deseja dividir.\n",
    "- `treinamento_dir`: O diretório onde as amostras de treinamento serão copiadas.\n",
    "- `validacao_dir`: O diretório onde as amostras de validação serão copiadas.\n",
    "- `ratio`: Uma tupla que especifica a proporção em que os dados devem ser divididos entre treinamento e validação. Por padrão, é definido como (0.6, 0.2, 0.2), o que significa que 60% dos dados serão usados para treinamento, 20% para validação e 20% para teste.\n",
    "- `seed`: Uma semente opcional para garantir a reprodutibilidade na divisão dos dados.\n",
    "\n",
    "#### Funcionamento\n",
    "\n",
    "A função começa listando todos os arquivos no diretório de origem e, em seguida, embaralhando essa lista para garantir que os dados sejam aleatórios. Em seguida, calcula o número de amostras para cada conjunto com base na proporção especificada.\n",
    "\n",
    "O conjunto de dados é dividido em três partes:\n",
    "\n",
    "- Conjunto de Treinamento: Amostras usadas para treinar o modelo.\n",
    "- Conjunto de Validação: Amostras usadas para ajustar hiperparâmetros e avaliar o desempenho durante o treinamento.\n",
    "- Conjunto de Teste: Amostras usadas para avaliar o desempenho final do modelo.\n",
    "\n",
    "As amostras são copiadas para os diretórios de treinamento e validação de acordo com a divisão definida.\n",
    "\n",
    "#### Exemplo de Uso\n",
    "\n",
    "```python\n",
    "source_dir = \"caminho/para/seus/dados\"\n",
    "treinamento_dir = \"caminho/para/diretorio/treinamento\"\n",
    "validacao_dir = \"caminho/para/diretorio/validacao\"\n",
    "teste_dir = \"caminho/para/diretorio/teste\"\n",
    "\n",
    "separar_dados_train_test_pasta(source_dir, treinamento_dir, validacao_dir, teste_dir, ratio=(0.6, 0.2, 0.2), seed=42)\n"
   ]
  },
  {
   "cell_type": "code",
   "execution_count": 1,
   "metadata": {},
   "outputs": [],
   "source": [
    "from ultralytics import YOLO\n",
    "from lib.datasetMaker import DatasetMaker"
   ]
  },
  {
   "cell_type": "markdown",
   "metadata": {},
   "source": [
    "### Iniciando o treinamento\n",
    "\n",
    "Para organizar os dados de treinamento, crie uma pasta chamada \"dados\". Dentro desta pasta \"dados\", você deve criar subpastas para cada classe que deseja classificar, como \"cachorro\", \"gato\" e \"papagaio\". Cada uma dessas subpastas deve ser nomeada de acordo com a classe correspondente.\n",
    "\n",
    "Por exemplo, a estrutura de diretórios ficaria assim:\n",
    "\n",
    "dados/\n",
    "\n",
    "├── cachorro/\n",
    "\n",
    "│ ├── imagem_cachorro1.jpg\n",
    "│ ├── imagem_cachorro2.jpg\n",
    "│ ├── ...\n",
    "│\n",
    "\n",
    "├── gato/\n",
    "\n",
    "│ ├── imagem_gato1.jpg\n",
    "│ ├── imagem_gato2.jpg\n",
    "│ ├── ...\n",
    "│\n",
    "\n",
    "├── papagaio/\n",
    "\n",
    "│ ├── imagem_papagaio1.jpg\n",
    "│ ├── imagem_papagaio2.jpg\n",
    "│ ├── ...\n",
    "\n",
    "\n",
    "Dentro de cada pasta de classe (por exemplo, \"cachorro\"), coloque as imagens correspondentes a essa classe. Essa organização de diretórios é fundamental para que seu modelo de aprendizado de máquina possa identificar e diferenciar entre as diferentes classes durante o treinamento.\n",
    "\n",
    "Certifique-se de que as imagens estejam bem distribuídas e representem fielmente as respectivas classes para obter melhores resultados durante o treinamento e a classificação posterior. No exemplo abaixo temos duas classes (bom e ruim):\n",
    "\n",
    "\n",
    "dados/\n",
    "\n",
    "├── bom/\n",
    "\n",
    "│ ├── imagem_bom.jpg\n",
    "│ ├── imagem_bom2.jpg\n",
    "│ ├── ...\n",
    "│\n",
    "\n",
    "├── ruim/\n",
    "\n",
    "│ ├── imagem_ruim.jpg\n",
    "│ ├── imagem_ruim.jpg\n",
    "│ ├── ..."
   ]
  },
  {
   "cell_type": "code",
   "execution_count": 3,
   "metadata": {},
   "outputs": [
    {
     "name": "stdout",
     "output_type": "stream",
     "text": [
      "Diretorio:  ./EmissoesFugitivas/Bom\n",
      "Quantidade total de dados:  1381\n",
      "Quantidade de dados de treinamento:  828\n",
      "Quantidade de dados de validacao:  276\n",
      "Quantidade de dados de teste:  277\n",
      "Diretorio:  ./EmissoesFugitivas/Ruim\n",
      "Quantidade total de dados:  625\n",
      "Quantidade de dados de treinamento:  375\n",
      "Quantidade de dados de validacao:  125\n",
      "Quantidade de dados de teste:  125\n"
     ]
    }
   ],
   "source": [
    "DatasetMaker.separar_dados_train_val_test_pasta(\n",
    "        \"./EmissoesFugitivas/Bom\",\n",
    "        \"./dados/train/Bom\",\n",
    "        \"./dados/test/Bom\",\n",
    "        \"./dados/val/Bom\",\n",
    "        ratio=(0.6, 0.2, 0.2),\n",
    "        seed=42\n",
    "        )\n",
    "\n",
    "DatasetMaker.separar_dados_train_val_test_pasta(\n",
    "        \"./EmissoesFugitivas/Ruim\",\n",
    "        \"./dados/train/Ruim\",\n",
    "        \"./dados/test/Ruim\",\n",
    "        \"./dados/val/Ruim\",\n",
    "        ratio=(0.6, 0.2, 0.2),\n",
    "        seed=42\n",
    "        )"
   ]
  },
  {
   "cell_type": "markdown",
   "metadata": {},
   "source": [
    "### Carregar um modelo\n",
    "\n",
    "Após organizar o conjunto de dados de acordo com o padrão especificado, você está pronto para carregar o modelo de classificação. No entanto, antes de fazer isso, é importante destacar que você tem a flexibilidade de escolher entre diferentes modelos disponíveis na documentação.Alguns exemplos de modelos pre-treinados e com configuração de tamanho de imagens: \n",
    "\n",
    "- [https://docs.ultralytics.com/tasks/classify/#models](https://docs.ultralytics.com/tasks/classify/#models)\n",
    "\n",
    "![Alt text](img\\image.png)\n",
    "\n",
    "Por padrão, se o modelo que você deseja utilizar não estiver presente localmente, o sistema irá automaticamente realizar o download do modelo correspondente para você.\n",
    "\n",
    "Aqui está um exemplo de como você pode carregar um modelo:\n",
    "\n",
    "```python\n",
    "# Carregando um modelo\n",
    "model = YOLO('yolov8n-cls.yaml')  # Constrói um novo modelo a partir de um arquivo YAML\n",
    "model = YOLO('yolov8n-cls.pt')  # Carrega um modelo pré-treinado (recomendado para treinamento)\n",
    "model = YOLO('yolov8n-cls.yaml').load('yolov8n-cls.pt')  # Constrói a partir de um arquivo YAML e transfere os pesos\n",
    "\n",
    "\n",
    "No exemplo vamos usar o modelo pré-treinado:"
   ]
  },
  {
   "cell_type": "code",
   "execution_count": null,
   "metadata": {},
   "outputs": [],
   "source": [
    "model = YOLO('yolov8n-cls.pt')  # Carrega um modelo pré-treinado (recomendado para treinamento)"
   ]
  },
  {
   "cell_type": "code",
   "execution_count": null,
   "metadata": {},
   "outputs": [],
   "source": [
    "    \n",
    "#model.train(data=\"./dados\", epochs=100, imgsz=224, save_period=1, patience=10) #Train the model\n",
    "\n",
    "      \n",
    "model.train(data=\"./dados\", epochs=100, imgsz=224, device=0 , save_period=1, workers=8, patience=10)\n",
    "model.export()"
   ]
  },
  {
   "cell_type": "markdown",
   "metadata": {},
   "source": [
    "### Alguns atributos para a classe train\n",
    "\n",
    "- **task=classify:** Indica que a tarefa a ser realizada é classificação. O modelo está sendo treinado para classificar algo, por exemplo, imagens.\n",
    "\n",
    "- **mode=train:** Define o modo de operação, indicando que o script está no modo de treinamento, ou seja, está treinando um modelo.\n",
    "\n",
    "- **model=yolov8n-cls.pt:** Especifica o nome ou caminho do arquivo do modelo a ser usado. Parece ser um modelo chamado \"yolov8n-cls.pt\".\n",
    "\n",
    "- **data=./dados/dados:** Define o caminho para o diretório ou arquivo de dados de treinamento.\n",
    "\n",
    "- **epochs=20:** Define o número de épocas de treinamento, que é a quantidade de vezes que o modelo percorrerá todo o conjunto de treinamento.\n",
    "\n",
    "- **patience=50:** Define um limite de paciência que controla quando o treinamento pode ser interrompido se não houver melhorias. Se não houver melhora por 50 épocas, o treinamento pode parar.\n",
    "\n",
    "- **batch=16:** Especifica o tamanho do lote (batch size) usado durante o treinamento. Isso significa que o modelo será treinado em lotes de 16 exemplos de cada vez.\n",
    "\n",
    "- **imgsz=224:** Define o tamanho das imagens de entrada que o modelo usará durante o treinamento. As imagens terão 224x224 pixels.\n",
    "\n",
    "- **save=True:** Indica se o modelo treinado deve ser salvo.\n",
    "\n",
    "- **save_period=-1:** Define a frequência com que o modelo será salvo durante o treinamento. O valor -1 provavelmente significa que o modelo será salvo apenas ao final do treinamento.\n",
    "\n",
    "- **cache=False:** Possivelmente controla o uso de cache durante o treinamento.\n",
    "\n",
    "- **device=None:** Define o dispositivo (por exemplo, CPU ou GPU) a ser usado para treinamento. O valor \"None\" geralmente significa que o dispositivo padrão será usado.\n",
    "\n",
    "- **workers=8:** Define o número de processos de trabalho (threads) a serem usados para carregar os dados de treinamento em paralelo.\n",
    "\n",
    "- **project=None, name=None, exist_ok=False:** Configurações relacionadas ao projeto de treinamento e ao nome do modelo.\n",
    "\n",
    "- **pretrained=True:** Indica se o modelo deve ser inicializado com pesos pré-treinados, o que é comum em transferência de aprendizado.\n",
    "\n",
    "- **optimizer=auto:** Configuração relacionada ao otimizador usado durante o treinamento.\n",
    "\n",
    "- **verbose=True:** Controla a exibição de informações detalhadas durante o treinamento.\n"
   ]
  }
 ],
 "metadata": {
  "kernelspec": {
   "display_name": "yolov8-fN9nPXkm-py3.10",
   "language": "python",
   "name": "python3"
  },
  "language_info": {
   "codemirror_mode": {
    "name": "ipython",
    "version": 3
   },
   "file_extension": ".py",
   "mimetype": "text/x-python",
   "name": "python",
   "nbconvert_exporter": "python",
   "pygments_lexer": "ipython3",
   "version": "3.11.5"
  },
  "orig_nbformat": 4
 },
 "nbformat": 4,
 "nbformat_minor": 2
}
