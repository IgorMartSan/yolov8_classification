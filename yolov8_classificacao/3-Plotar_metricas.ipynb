{
 "cells": [
  {
   "cell_type": "code",
   "execution_count": null,
   "metadata": {
    "vscode": {
     "languageId": "plaintext"
    }
   },
   "outputs": [],
   "source": [
    "import os\n",
    "import pandas as pd\n",
    "import matplotlib.pyplot as plt\n",
    "\n",
    "\n",
    "results_path = './runs/classify/train2/results.csv'\n",
    "\n",
    "results = pd.read_csv(results_path)\n",
    "\n",
    "plt.figure()\n",
    "plt.plot(results['                  epoch'], results['             train/loss'], label='train loss')\n",
    "plt.plot(results['                  epoch'], results['               val/loss'], label='val loss', c='red')\n",
    "plt.grid()\n",
    "plt.title('Loss vs epochs')\n",
    "plt.ylabel('loss')\n",
    "plt.xlabel('epochs')\n",
    "plt.legend()\n",
    "\n",
    "\n",
    "plt.figure()\n",
    "plt.plot(results['                  epoch'], results['  metrics/accuracy_top1'] * 100)\n",
    "plt.grid()\n",
    "plt.title('Validation accuracy vs epochs')\n",
    "plt.ylabel('accuracy (%)')\n",
    "plt.xlabel('epochs')\n",
    "\n",
    "plt.show()"
   ]
  }
 ],
 "metadata": {
  "language_info": {
   "name": "python"
  },
  "orig_nbformat": 4
 },
 "nbformat": 4,
 "nbformat_minor": 2
}
